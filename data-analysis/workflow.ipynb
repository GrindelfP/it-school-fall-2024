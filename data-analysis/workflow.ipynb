{
 "cells": [
  {
   "cell_type": "code",
   "execution_count": 15,
   "id": "672084a0-c378-4c70-bcf8-f535519a9d1e",
   "metadata": {},
   "outputs": [],
   "source": [
    "import json"
   ]
  },
  {
   "cell_type": "code",
   "execution_count": 1,
   "id": "935a78d6-edc6-4521-8aab-23a8b264b8fe",
   "metadata": {},
   "outputs": [],
   "source": [
    "from elasticsearch import Elasticsearch\n",
    "from elasticsearch.helpers import bulk"
   ]
  },
  {
   "cell_type": "code",
   "execution_count": 12,
   "id": "b06b1437-b65a-4029-bcab-08fcb3205b10",
   "metadata": {},
   "outputs": [],
   "source": [
    "login = 'jinr_school_41'\n",
    "password = '7vufVF5D'\n",
    "index = 'jobhunt_41'\n",
    "url = 'https://pluton.mephi.ru/elk-e'"
   ]
  },
  {
   "cell_type": "code",
   "execution_count": 13,
   "id": "b033024a-fdff-4e5d-a751-5c4d01ca5b9d",
   "metadata": {},
   "outputs": [],
   "source": [
    "es = Elasticsearch(\n",
    "    url,\n",
    "    basic_auth=(login, password)\n",
    ")"
   ]
  },
  {
   "cell_type": "code",
   "execution_count": 14,
   "id": "6e393a8b-5a98-4da7-9109-c9150d638103",
   "metadata": {},
   "outputs": [
    {
     "data": {
      "text/plain": [
       "ObjectApiResponse({'name': '89260c7982e1', 'cluster_name': 'docker-cluster', 'cluster_uuid': 'rM0DcZKtRWWya4Jr4Gw9TA', 'version': {'number': '7.17.7', 'build_flavor': 'default', 'build_type': 'docker', 'build_hash': '78dcaaa8cee33438b91eca7f5c7f56a70fec9e80', 'build_date': '2022-10-17T15:29:54.167373105Z', 'build_snapshot': False, 'lucene_version': '8.11.1', 'minimum_wire_compatibility_version': '6.8.0', 'minimum_index_compatibility_version': '6.0.0-beta1'}, 'tagline': 'You Know, for Search'})"
      ]
     },
     "execution_count": 14,
     "metadata": {},
     "output_type": "execute_result"
    }
   ],
   "source": [
    "es.info()"
   ]
  },
  {
   "cell_type": "code",
   "execution_count": 16,
   "id": "b1722b5b-0aff-4d67-9456-b2b7bf577953",
   "metadata": {},
   "outputs": [],
   "source": [
    "def read_json(path) -> dict | list[dict]:\n",
    "    with open (path, 'r',  encoding='utf-8') as file:\n",
    "        return json.load(file)"
   ]
  },
  {
   "cell_type": "code",
   "execution_count": 17,
   "id": "9966f95d-c8ba-4a95-a621-067524e0d145",
   "metadata": {},
   "outputs": [],
   "source": [
    "def create_index(agent: Elasticsearch, index_name: str, settings: dict):\n",
    "    agent.indices.create(index=index, body=settings)"
   ]
  },
  {
   "cell_type": "code",
   "execution_count": 29,
   "id": "d5a8104f-8686-4115-98dc-03bae650f47d",
   "metadata": {},
   "outputs": [],
   "source": [
    "settings = ''"
   ]
  },
  {
   "cell_type": "code",
   "execution_count": 30,
   "id": "0df652c6-07cd-439a-9cda-465cdbc3e719",
   "metadata": {},
   "outputs": [
    {
     "name": "stdout",
     "output_type": "stream",
     "text": [
      "Already created\n"
     ]
    }
   ],
   "source": [
    "try:\n",
    "    settings = read_json('mapping.json')\n",
    "    create_index(es, index, settings)\n",
    "except:\n",
    "    print('Already created')"
   ]
  },
  {
   "cell_type": "code",
   "execution_count": 31,
   "id": "f37341dc-f8e0-4b3a-858b-0aa22bfcd14e",
   "metadata": {},
   "outputs": [],
   "source": [
    "def upload(index, data):\n",
    "    for item in data:\n",
    "        yield {\n",
    "            '_index': index,\n",
    "            '_source': item\n",
    "        }"
   ]
  },
  {
   "cell_type": "code",
   "execution_count": 32,
   "id": "bd99701e-c42d-437b-b96c-e4cc1a689b06",
   "metadata": {},
   "outputs": [],
   "source": [
    "data = read_json('data.json')"
   ]
  },
  {
   "cell_type": "code",
   "execution_count": 33,
   "id": "e02f0a84-b3c0-4351-bfde-60313762d7dd",
   "metadata": {},
   "outputs": [
    {
     "data": {
      "text/plain": [
       "(493, [])"
      ]
     },
     "execution_count": 33,
     "metadata": {},
     "output_type": "execute_result"
    }
   ],
   "source": [
    "bulk(es, upload(index, data))"
   ]
  },
  {
   "cell_type": "code",
   "execution_count": null,
   "id": "5ea6e883-58b5-4ba6-af22-3caf412a8383",
   "metadata": {},
   "outputs": [],
   "source": []
  }
 ],
 "metadata": {
  "kernelspec": {
   "display_name": "venv",
   "language": "python",
   "name": "venv"
  },
  "language_info": {
   "codemirror_mode": {
    "name": "ipython",
    "version": 3
   },
   "file_extension": ".py",
   "mimetype": "text/x-python",
   "name": "python",
   "nbconvert_exporter": "python",
   "pygments_lexer": "ipython3",
   "version": "3.12.6"
  }
 },
 "nbformat": 4,
 "nbformat_minor": 5
}
