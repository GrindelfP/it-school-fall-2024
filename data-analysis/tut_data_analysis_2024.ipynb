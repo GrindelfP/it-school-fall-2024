{
 "cells": [
  {
   "cell_type": "code",
   "execution_count": 1,
   "id": "ed608cc4-e84e-4c97-927a-8b071ed240d6",
   "metadata": {},
   "outputs": [],
   "source": [
    "import csv\n",
    "import json"
   ]
  },
  {
   "cell_type": "code",
   "execution_count": 2,
   "id": "d1e08e73-6268-4919-bd46-a58bc856823c",
   "metadata": {},
   "outputs": [],
   "source": [
    "from pathlib import Path\n",
    "from typing import List"
   ]
  },
  {
   "cell_type": "code",
   "execution_count": 3,
   "id": "8db9e3ed-54be-4633-8c77-9721aa242138",
   "metadata": {},
   "outputs": [],
   "source": [
    "main_dir = Path(r'csv_data')"
   ]
  },
  {
   "cell_type": "code",
   "execution_count": 4,
   "id": "c90b6d32-9346-411f-9394-d8cde7d38cbd",
   "metadata": {},
   "outputs": [],
   "source": [
    "def process_csv_data(file_path: str) -> List[dict]:\n",
    "    \"\"\"_summary_\n",
    "\n",
    "    Args:\n",
    "        file_path (str): _description_\n",
    "\n",
    "    Returns:\n",
    "        List[dict]: _description_\n",
    "    \"\"\"\n",
    "    data = []\n",
    "    with open(file_path, \"r\", encoding=\"utf-8\") as file:\n",
    "        reader = csv.reader(file)\n",
    "        next(reader)\n",
    "\n",
    "        for row in reader:\n",
    "            # Fullname,Gender,Age,Skills,Company,Salary (SEK),Location,Registration Date\n",
    "            name, gender, age, skills, company, salary, location, registered_date = row\n",
    "\n",
    "            age = int(age)\n",
    "            skills = skills.split(\"; \")\n",
    "            lat = float(location.split(\"; \")[0])\n",
    "            lon = float(location.split(\"; \")[1])\n",
    "\n",
    "            data_dict = {\n",
    "                \"name\": name,\n",
    "                \"gender\": gender,\n",
    "                \"age\": age,\n",
    "                \"skills\": skills,\n",
    "                \"company\": company,\n",
    "                \"salary\": salary,\n",
    "                \"location\": {\"lat\": lat, \"lon\": lon},\n",
    "                \"registered\": registered_date,\n",
    "            }\n",
    "\n",
    "            data.append(data_dict)\n",
    "\n",
    "    return data"
   ]
  },
  {
   "cell_type": "code",
   "execution_count": 5,
   "id": "861d3b1a-671e-4c84-86d6-1cdbc4ec1f56",
   "metadata": {},
   "outputs": [],
   "source": [
    "def save_json(data: List[dict], file_path: str):\n",
    "    \"\"\"_summary_\n",
    "\n",
    "    Args:\n",
    "        data (List[dict]): _description_\n",
    "        file_path (str): _description_\n",
    "    \"\"\"\n",
    "    with open(file_path, \"w\", encoding=\"utf-8\") as file:\n",
    "        json.dump(data, file, indent=4, ensure_ascii=False)"
   ]
  },
  {
   "cell_type": "code",
   "execution_count": 6,
   "id": "bb01c8fa-1bfb-4cb4-8600-d256e83c1f76",
   "metadata": {},
   "outputs": [],
   "source": [
    "result = []\n",
    "for f in main_dir.iterdir():\n",
    "    result += process_csv_data(f)\n",
    "save_json(result, \"data.json\")"
   ]
  },
  {
   "cell_type": "code",
   "execution_count": null,
   "id": "674aaf4b-d81e-4e8f-a5af-7f6f3f98e8f6",
   "metadata": {},
   "outputs": [],
   "source": []
  }
 ],
 "metadata": {
  "kernelspec": {
   "display_name": "venv",
   "language": "python",
   "name": "venv"
  },
  "language_info": {
   "codemirror_mode": {
    "name": "ipython",
    "version": 3
   },
   "file_extension": ".py",
   "mimetype": "text/x-python",
   "name": "python",
   "nbconvert_exporter": "python",
   "pygments_lexer": "ipython3",
   "version": "3.12.6"
  }
 },
 "nbformat": 4,
 "nbformat_minor": 5
}
